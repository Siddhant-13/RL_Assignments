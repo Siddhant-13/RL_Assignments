{
 "cells": [
  {
   "cell_type": "code",
   "execution_count": 3,
   "id": "d5c2d0b1",
   "metadata": {},
   "outputs": [],
   "source": [
    "import gymnasium as gym\n",
    "\n",
    "env1 = gym.make(\"LunarLander-v3\", render_mode=\"human\")\n",
    "observation, info = env1.reset()\n",
    "\n",
    "for _ in range(500):\n",
    "    action = env1.action_space.sample()  # Take random action\n",
    "    observation, reward, terminated, truncated, info = env1.step(action)\n",
    "    if terminated or truncated:\n",
    "        observation, info = env1.reset()\n",
    "\n",
    "env1.close()"
   ]
  },
  {
   "cell_type": "code",
   "execution_count": 4,
   "id": "46304b27",
   "metadata": {},
   "outputs": [
    {
     "name": "stdout",
     "output_type": "stream",
     "text": [
      "LunarLander-v3\n",
      "Observation space: Box([ -2.5        -2.5       -10.        -10.         -6.2831855 -10.\n",
      "  -0.         -0.       ], [ 2.5        2.5       10.        10.         6.2831855 10.\n",
      "  1.         1.       ], (8,), float32)\n",
      "Action space: Discrete(4)\n"
     ]
    }
   ],
   "source": [
    "env1 = gym.make(\"LunarLander-v3\")\n",
    "print(\"LunarLander-v3\")\n",
    "print(\"Observation space:\", env1.observation_space)\n",
    "print(\"Action space:\", env1.action_space)\n",
    "env1.close()"
   ]
  },
  {
   "cell_type": "markdown",
   "id": "3a8187bf",
   "metadata": {},
   "source": [
    "**LunarLander-v3**\n",
    "\n",
    "- **Observation space:** 8 floats (position, velocity, angle, leg contact)\n",
    "- **Action space:** Discrete(4) — do nothing, fire left/right/main engine\n",
    "- **Goal:** Land smoothly between flags without crashing\n",
    "- **Episode duration:** Up to 1000 steps\n",
    "- **Challenges:** Control physics, balance descent, random start/landing position\n"
   ]
  },
  {
   "cell_type": "code",
   "execution_count": 5,
   "id": "b970bcfb",
   "metadata": {},
   "outputs": [],
   "source": [
    "env2 = gym.make(\"CarRacing-v3\", render_mode=\"human\")\n",
    "observation, info = env2.reset(seed=42)\n",
    "\n",
    "for _ in range(500):\n",
    "    action = env2.action_space.sample()\n",
    "    observation, reward, terminated, truncated, info = env2.step(action)\n",
    "    if terminated or truncated:\n",
    "        observation, info = env2.reset()\n",
    "\n",
    "env2.close()\n"
   ]
  },
  {
   "cell_type": "code",
   "execution_count": 6,
   "id": "7ef2a5b2",
   "metadata": {},
   "outputs": [
    {
     "name": "stdout",
     "output_type": "stream",
     "text": [
      "\n",
      "CarRacing-v2\n",
      "Observation space: Box(0, 255, (96, 96, 3), uint8)\n",
      "Action space: Box([-1.  0.  0.], 1.0, (3,), float32)\n"
     ]
    }
   ],
   "source": [
    "env2 = gym.make(\"CarRacing-v3\")\n",
    "print(\"\\nCarRacing-v2\")\n",
    "print(\"Observation space:\", env2.observation_space)\n",
    "print(\"Action space:\", env2.action_space)\n",
    "env2.close()"
   ]
  },
  {
   "cell_type": "markdown",
   "id": "6f3f9781",
   "metadata": {},
   "source": [
    "**CarRacing-v3**\n",
    "\n",
    "- **Observation space:** 96x96x3 RGB image (visual input)\n",
    "- **Action space:** Continuous 3D (steering, gas, brake)\n",
    "- **Goal:** Drive as far as possible around random track\n",
    "- **Episode duration:** Up to 1000 steps\n",
    "- **Challenges:** Visual input, precise control, random tracks\n"
   ]
  }
 ],
 "metadata": {
  "kernelspec": {
   "display_name": "Python 3",
   "language": "python",
   "name": "python3"
  },
  "language_info": {
   "codemirror_mode": {
    "name": "ipython",
    "version": 3
   },
   "file_extension": ".py",
   "mimetype": "text/x-python",
   "name": "python",
   "nbconvert_exporter": "python",
   "pygments_lexer": "ipython3",
   "version": "3.12.9"
  }
 },
 "nbformat": 4,
 "nbformat_minor": 5
}
